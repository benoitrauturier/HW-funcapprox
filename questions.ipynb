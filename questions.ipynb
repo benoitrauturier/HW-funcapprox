{
 "cells": [
  {
   "cell_type": "markdown",
   "metadata": {},
   "source": [
    "# Function Approximation Exercises\n",
    "\n",
    "As always, please submit a julia module with functions `q1` through `q5`.\n",
    "\n",
    "## 1. Plain Vanilla Chebyshev\n",
    "\n",
    "In this exercise you should write some code that approximates the function $f(x) = x + 2x^2 - exp(-x)$ for $x\\in[-3,3]$. You should define a function `q1(n)`, where `n` is the number of interpolation points. You should use an approximation of degree `deg=n-1`, and you should set `n=15` Chebyshev interpolation nodes.\n",
    "\n",
    "* predict `n_new=50` new points in $[-3,3]$ using your interpolator. \n",
    "* make a plot that shows the deviation in your approximation from the true $f$. \n",
    "* Write an automated test that passes if the maximal deviation in your approximation from the true $f$ is smaller than `1e-9`.\n",
    "\n",
    "## 2. Question 1. with `ApproxFun.jl`\n",
    "\n",
    "Redo exercise 1 with the `ApproxFun.jl` package. This should go into function `q2(n)`.\n",
    "\n",
    "## 3. Plotting the Chebyshev Basis\n",
    "\n",
    "plot the first nine Chebyshev basis functions in function `q3()`. This is on slide 13. You could take some inspiration for the plot from slide 21.\n",
    "\n",
    "## 4. Importance of node placement\n",
    "\n",
    "In this exercise we want to investigate one of the dangers with polynomial approximation: placement of knots. We will focus on the classic example of Runge's function:\n",
    "    $$ f(x) = \\frac{1}{1+25x^2} ,x\\in[-5,5]$$\n",
    "\n",
    "### 4.a. Polynomial Interpolation: uniform vs chebyshev nodes. `q4a()`\n",
    "\n",
    "Here we want to approximate $f$ with the Chebyshev polynomial. We want to learn the impact of evaluating the polynomial at an equidistant set of points as opposed to something else. \n",
    "\n",
    "* Produce a plot with 2 panels. \n",
    "    * Panel 1 should show approximations using a uniformly spaced grid of interpolation points. \n",
    "    * Panel 2 should show approximations using chebyshev interpolation points.\n",
    "* Each panel should show 4 lines:\n",
    "    1. The true function\n",
    "    2. the resulting approximations from a Chebyshev Interpolation of degrees $k=5,9,15$. Are we going to get a better approximation as we increase $k$?\n",
    "* For each approximation, you should choose $n=k+1$ interpolation points.\n",
    "* The code contains a custom `ChebyType` that I found useful to produce these plots. You may want to use it as well.\n",
    "\n",
    "    \n",
    "### 4.b. Spline Interpolation: where to place knots?  `q4b()`\n",
    "\n",
    "* Produce a plot with 2 panels. Panel 1 shows $f(x),x\\in[-5,5]$, panel 2 shows deviations of your approximation to it (see below)\n",
    "* Use 2 versions of a cubic spline to approximate the function:\n",
    "    * version 1: use 13 equally spaced knots when you set up the BSpline\n",
    "    * version 2: use 13 knots that are concentrated towards 0.\n",
    "* To estimate your approximating coefficients, evaluate the basis and $f$ at `nevals=5*13=65` equidistant points.\n",
    "* So, panel 2 of your plot should show 2 lines (`f - approx1` and `f - approx2`), as well as the placement of your concentrated knots.\n",
    "\n",
    "## 5. Splines and Kinks\n",
    "\n",
    "Interpolate the function $f(x) = |x|^{0.5},x\\in[-1,1]$ with a cubic spline, with 13 knots, and 65 evaluation points to estimate it's coefficients. **Note**: I used the `CompEcon.jl` package for this exercise. The `getBasis` function in `ApproXD.jl` is not able to handle the case outlined below.\n",
    "\n",
    "Produce a plot with 3 panels:\n",
    "\n",
    "1. Plot the true function. It has a kink at 0.\n",
    "1. plot two spline approximations. \n",
    "    1. a spline with a uniform knot vector.\n",
    "    1. a spline with a knot vector that has a knot multiplicity at the kink $x=0$. How many knots do you have to set equal to zero to produce a kink? note that the number of knots should not change (i.e. 13).\n",
    "1. In panel three plot the errors of both approximations.\n",
    "\n"
   ]
  },
  {
   "cell_type": "code",
   "execution_count": null,
   "metadata": {
    "collapsed": true
   },
   "outputs": [],
   "source": []
  }
 ],
 "metadata": {
  "kernelspec": {
   "display_name": "Julia 0.4.0",
   "language": "julia",
   "name": "julia-0.4"
  },
  "language_info": {
   "file_extension": ".jl",
   "mimetype": "application/julia",
   "name": "julia",
   "version": "0.4.0"
  }
 },
 "nbformat": 4,
 "nbformat_minor": 0
}
